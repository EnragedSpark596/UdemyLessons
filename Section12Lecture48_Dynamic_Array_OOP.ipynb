{
 "cells": [
  {
   "cell_type": "code",
   "execution_count": null,
   "metadata": {},
   "outputs": [],
   "source": [
    "# https://www.udemy.com/course/python-for-data-structures-algorithms-and-interviews/learn/lecture/3179588#questions"
   ]
  },
  {
   "cell_type": "markdown",
   "metadata": {},
   "source": [
    "## Dynamic Array Exercise"
   ]
  },
  {
   "cell_type": "markdown",
   "metadata": {},
   "source": [
    "In this exercise we will create our own Dynamic Array class!\n",
    "\n",
    "We'll be using a built in library called ctypes. Check out the documentation for more info, but its basically going to be used here as a raw array from the ctypes module. If you find yourself very interested in it, check out: Ctypes Tutorial\n",
    "\n",
    "Also...\n",
    "\n",
    "__A quick note on public vs private methods, we can use an underscore _ before the method name to keep it non-public.__\n",
    "\n",
    "For example:"
   ]
  },
  {
   "cell_type": "code",
   "execution_count": 2,
   "metadata": {},
   "outputs": [],
   "source": [
    "class M(object):\n",
    "    \n",
    "    def public(self):\n",
    "        print ('Use Tab to see me!')\n",
    "        \n",
    "    def _private(self):\n",
    "        print (\"You won't be able to Tab to see me!\")"
   ]
  },
  {
   "cell_type": "code",
   "execution_count": 3,
   "metadata": {},
   "outputs": [],
   "source": [
    "m = M()"
   ]
  },
  {
   "cell_type": "code",
   "execution_count": 4,
   "metadata": {},
   "outputs": [
    {
     "name": "stdout",
     "output_type": "stream",
     "text": [
      "Use Tab to see me!\n"
     ]
    }
   ],
   "source": [
    "m.public()"
   ]
  },
  {
   "cell_type": "code",
   "execution_count": 5,
   "metadata": {},
   "outputs": [
    {
     "name": "stdout",
     "output_type": "stream",
     "text": [
      "You won't be able to Tab to see me!\n"
     ]
    }
   ],
   "source": [
    "m._private()"
   ]
  },
  {
   "cell_type": "markdown",
   "metadata": {},
   "source": [
    "## Dynamic Array Implementation"
   ]
  },
  {
   "cell_type": "code",
   "execution_count": 6,
   "metadata": {},
   "outputs": [],
   "source": [
    "import ctypes\n",
    "\n",
    "class DynamicArray(object):\n",
    "    '''\n",
    "    DYNAMIC ARRAY CLASS (Similar to Python List)\n",
    "    '''\n",
    "    \n",
    "    def __init__(self):\n",
    "        self.n = 0 # Count actual elements (Default is 0) - counter\n",
    "        self.capacity = 1 # Default Capacity - array can only accept 1 item as default\n",
    "        self.A = self.make_array(self.capacity) # method: make new array 'A' of size 'capacity'\n",
    "        \n",
    "    def __len__(self):\n",
    "        \"\"\"\n",
    "        Return number of elements sorted in array\n",
    "        \"\"\"\n",
    "        return self.n\n",
    "    \n",
    "    def __getitem__(self,k):\n",
    "        \"\"\"\n",
    "        Return element at index k\n",
    "        \"\"\"\n",
    "        if not 0 <= k < self.n:\n",
    "            return IndexError('K is out of bounds!') # Check if k index is in bounds of array\n",
    "        \n",
    "        return self.A[k] #Retrieve from array at index k\n",
    "        \n",
    "    def append(self, ele): # ele is the element that will be added to the end of the array when array is full\n",
    "        \"\"\"\n",
    "        Add element to end of the array - I guess 'element' is the item waiting to be added at the moment\n",
    "        the array is found to be full\n",
    "        \"\"\"\n",
    "        if self.n == self.capacity:\n",
    "            self._resize(2*self.capacity) #Double the capacity if not enough room - action is hidden by making it private\n",
    "        \n",
    "        self.A[self.n] = ele # Set self.n index to element\n",
    "        self.n += 1\n",
    "        \n",
    "    def _resize(self,new_cap): # note use of underscore to make method private - hides action from user\n",
    "        \"\"\"\n",
    "        Resize internal array to capacity new_cap\n",
    "        \"\"\"\n",
    "        \n",
    "        B = self.make_array(new_cap) # Make a new bigger array, 'B'\n",
    "        \n",
    "        for k in range(self.n): # Reference all existing values - copy all the existing A items into B\n",
    "            B[k] = self.A[k]\n",
    "            \n",
    "        self.A = B # Call A the new bigger array\n",
    "        self.capacity = new_cap # Reset 'capacity' to new capacity\n",
    "        \n",
    "    def make_array(self,new_cap):\n",
    "        \"\"\"\n",
    "        Returns a new array with new_cap capacity\n",
    "        \"\"\"\n",
    "        return (new_cap * ctypes.py_object)()"
   ]
  },
  {
   "cell_type": "code",
   "execution_count": 7,
   "metadata": {},
   "outputs": [],
   "source": [
    "arr = DynamicArray()"
   ]
  },
  {
   "cell_type": "code",
   "execution_count": 8,
   "metadata": {},
   "outputs": [],
   "source": [
    "# Append new element\n",
    "arr.append(1)"
   ]
  },
  {
   "cell_type": "code",
   "execution_count": 9,
   "metadata": {},
   "outputs": [
    {
     "data": {
      "text/plain": [
       "1"
      ]
     },
     "execution_count": 9,
     "metadata": {},
     "output_type": "execute_result"
    }
   ],
   "source": [
    "# Check length\n",
    "len(arr)"
   ]
  },
  {
   "cell_type": "code",
   "execution_count": 10,
   "metadata": {},
   "outputs": [],
   "source": [
    "# Append new element\n",
    "arr.append(2)"
   ]
  },
  {
   "cell_type": "code",
   "execution_count": 11,
   "metadata": {},
   "outputs": [
    {
     "data": {
      "text/plain": [
       "2"
      ]
     },
     "execution_count": 11,
     "metadata": {},
     "output_type": "execute_result"
    }
   ],
   "source": [
    "# Check length\n",
    "len(arr)"
   ]
  },
  {
   "cell_type": "code",
   "execution_count": 12,
   "metadata": {},
   "outputs": [
    {
     "data": {
      "text/plain": [
       "1"
      ]
     },
     "execution_count": 12,
     "metadata": {},
     "output_type": "execute_result"
    }
   ],
   "source": [
    "# Index\n",
    "arr[0]"
   ]
  },
  {
   "cell_type": "code",
   "execution_count": 13,
   "metadata": {},
   "outputs": [
    {
     "data": {
      "text/plain": [
       "2"
      ]
     },
     "execution_count": 13,
     "metadata": {},
     "output_type": "execute_result"
    }
   ],
   "source": [
    "arr[1]"
   ]
  },
  {
   "cell_type": "code",
   "execution_count": 25,
   "metadata": {},
   "outputs": [
    {
     "name": "stdout",
     "output_type": "stream",
     "text": [
      "[]Length:   0; Size in bytes:   64\n",
      "[0]Length:   1; Size in bytes:   96\n",
      "[0, 1]Length:   2; Size in bytes:   96\n",
      "[0, 1, 2]Length:   3; Size in bytes:   96\n",
      "[0, 1, 2, 3]Length:   4; Size in bytes:   96\n",
      "[0, 1, 2, 3, 4]Length:   5; Size in bytes:  128\n",
      "[0, 1, 2, 3, 4, 5]Length:   6; Size in bytes:  128\n",
      "[0, 1, 2, 3, 4, 5, 6]Length:   7; Size in bytes:  128\n",
      "[0, 1, 2, 3, 4, 5, 6, 7]Length:   8; Size in bytes:  128\n",
      "[0, 1, 2, 3, 4, 5, 6, 7, 8]Length:   9; Size in bytes:  192\n",
      "[0, 1, 2, 3, 4, 5, 6, 7, 8, 9]Length:  10; Size in bytes:  192\n",
      "[0, 1, 2, 3, 4, 5, 6, 7, 8, 9, 10]Length:  11; Size in bytes:  192\n",
      "[0, 1, 2, 3, 4, 5, 6, 7, 8, 9, 10, 11]Length:  12; Size in bytes:  192\n",
      "[0, 1, 2, 3, 4, 5, 6, 7, 8, 9, 10, 11, 12]Length:  13; Size in bytes:  192\n",
      "[0, 1, 2, 3, 4, 5, 6, 7, 8, 9, 10, 11, 12, 13]Length:  14; Size in bytes:  192\n",
      "[0, 1, 2, 3, 4, 5, 6, 7, 8, 9, 10, 11, 12, 13, 14]Length:  15; Size in bytes:  192\n",
      "[0, 1, 2, 3, 4, 5, 6, 7, 8, 9, 10, 11, 12, 13, 14, 15]Length:  16; Size in bytes:  192\n",
      "[0, 1, 2, 3, 4, 5, 6, 7, 8, 9, 10, 11, 12, 13, 14, 15, 16]Length:  17; Size in bytes:  264\n",
      "[0, 1, 2, 3, 4, 5, 6, 7, 8, 9, 10, 11, 12, 13, 14, 15, 16, 17]Length:  18; Size in bytes:  264\n",
      "[0, 1, 2, 3, 4, 5, 6, 7, 8, 9, 10, 11, 12, 13, 14, 15, 16, 17, 18]Length:  19; Size in bytes:  264\n",
      "[0, 1, 2, 3, 4, 5, 6, 7, 8, 9, 10, 11, 12, 13, 14, 15, 16, 17, 18, 19]Length:  20; Size in bytes:  264\n",
      "[0, 1, 2, 3, 4, 5, 6, 7, 8, 9, 10, 11, 12, 13, 14, 15, 16, 17, 18, 19, 20]Length:  21; Size in bytes:  264\n",
      "[0, 1, 2, 3, 4, 5, 6, 7, 8, 9, 10, 11, 12, 13, 14, 15, 16, 17, 18, 19, 20, 21]Length:  22; Size in bytes:  264\n",
      "[0, 1, 2, 3, 4, 5, 6, 7, 8, 9, 10, 11, 12, 13, 14, 15, 16, 17, 18, 19, 20, 21, 22]Length:  23; Size in bytes:  264\n",
      "[0, 1, 2, 3, 4, 5, 6, 7, 8, 9, 10, 11, 12, 13, 14, 15, 16, 17, 18, 19, 20, 21, 22, 23]Length:  24; Size in bytes:  264\n",
      "[0, 1, 2, 3, 4, 5, 6, 7, 8, 9, 10, 11, 12, 13, 14, 15, 16, 17, 18, 19, 20, 21, 22, 23, 24]Length:  25; Size in bytes:  264\n",
      "[0, 1, 2, 3, 4, 5, 6, 7, 8, 9, 10, 11, 12, 13, 14, 15, 16, 17, 18, 19, 20, 21, 22, 23, 24, 25]Length:  26; Size in bytes:  344\n",
      "[0, 1, 2, 3, 4, 5, 6, 7, 8, 9, 10, 11, 12, 13, 14, 15, 16, 17, 18, 19, 20, 21, 22, 23, 24, 25, 26]Length:  27; Size in bytes:  344\n",
      "[0, 1, 2, 3, 4, 5, 6, 7, 8, 9, 10, 11, 12, 13, 14, 15, 16, 17, 18, 19, 20, 21, 22, 23, 24, 25, 26, 27]Length:  28; Size in bytes:  344\n",
      "[0, 1, 2, 3, 4, 5, 6, 7, 8, 9, 10, 11, 12, 13, 14, 15, 16, 17, 18, 19, 20, 21, 22, 23, 24, 25, 26, 27, 28]Length:  29; Size in bytes:  344\n"
     ]
    }
   ],
   "source": [
    "#Try with getsizeof\n",
    "import sys\n",
    "\n",
    "k = 30\n",
    "\n",
    "dataA = DynamicArray()\n",
    "\n",
    "dataA = []\n",
    "\n",
    "for i in range(k):\n",
    "    # number of elements\n",
    "    a = len(dataA)\n",
    "    \n",
    "    # actual size in bytes\n",
    "    b = sys.getsizeof(dataA)\n",
    "    \n",
    "    print(str(dataA) + 'Length: {0:3d}; Size in bytes: {1:4d}'.format(a,b))\n",
    "    \n",
    "    # increase size by 1\n",
    "    dataA.append(i)"
   ]
  },
  {
   "cell_type": "code",
   "execution_count": 32,
   "metadata": {},
   "outputs": [
    {
     "name": "stdout",
     "output_type": "stream",
     "text": [
      "0 1 56\n",
      "1 2 56\n",
      "2 3 56\n",
      "3 4 56\n",
      "4 5 56\n",
      "5 6 56\n",
      "6 7 56\n",
      "7 8 56\n",
      "8 9 56\n",
      "9 10 56\n",
      "10 11 56\n",
      "11 12 56\n",
      "12 13 56\n",
      "13 14 56\n",
      "14 15 56\n",
      "15 16 56\n",
      "16 17 56\n",
      "17 18 56\n",
      "18 19 56\n",
      "19 20 56\n",
      "20 21 56\n",
      "21 22 56\n",
      "22 23 56\n",
      "23 24 56\n",
      "24 25 56\n",
      "25 26 56\n",
      "26 27 56\n",
      "27 28 56\n",
      "28 29 56\n",
      "29 30 56\n",
      "30 31 56\n",
      "31 32 56\n",
      "32 33 56\n",
      "33 34 56\n",
      "34 35 56\n",
      "35 36 56\n",
      "36 37 56\n",
      "37 38 56\n",
      "38 39 56\n",
      "39 40 56\n",
      "40 41 56\n",
      "41 42 56\n",
      "42 43 56\n",
      "43 44 56\n",
      "44 45 56\n",
      "45 46 56\n",
      "46 47 56\n",
      "47 48 56\n",
      "48 49 56\n",
      "49 50 56\n",
      "50 51 56\n",
      "51 52 56\n",
      "52 53 56\n",
      "53 54 56\n",
      "54 55 56\n",
      "55 56 56\n",
      "56 57 56\n",
      "57 58 56\n",
      "58 59 56\n",
      "59 60 56\n",
      "60 61 56\n",
      "61 62 56\n",
      "62 63 56\n",
      "63 64 56\n",
      "64 65 56\n",
      "65 66 56\n",
      "66 67 56\n",
      "67 68 56\n",
      "68 69 56\n",
      "69 70 56\n",
      "70 71 56\n",
      "71 72 56\n",
      "72 73 56\n",
      "73 74 56\n",
      "74 75 56\n",
      "75 76 56\n",
      "76 77 56\n",
      "77 78 56\n",
      "78 79 56\n",
      "79 80 56\n",
      "80 81 56\n",
      "81 82 56\n",
      "82 83 56\n",
      "83 84 56\n",
      "84 85 56\n",
      "85 86 56\n",
      "86 87 56\n",
      "87 88 56\n",
      "88 89 56\n",
      "89 90 56\n",
      "90 91 56\n",
      "91 92 56\n",
      "92 93 56\n",
      "93 94 56\n",
      "94 95 56\n",
      "95 96 56\n",
      "96 97 56\n",
      "97 98 56\n",
      "98 99 56\n",
      "99 100 56\n"
     ]
    }
   ],
   "source": [
    "arr2 = DynamicArray()\n",
    "\n",
    "numMax = 100\n",
    "\n",
    "for n in range(numMax):\n",
    "    arr2.append(n)\n",
    "    print(arr2[n], len(arr2),sys.getsizeof(arr2))"
   ]
  },
  {
   "cell_type": "code",
   "execution_count": null,
   "metadata": {},
   "outputs": [],
   "source": []
  }
 ],
 "metadata": {
  "kernelspec": {
   "display_name": "Python 3",
   "language": "python",
   "name": "python3"
  },
  "language_info": {
   "codemirror_mode": {
    "name": "ipython",
    "version": 3
   },
   "file_extension": ".py",
   "mimetype": "text/x-python",
   "name": "python",
   "nbconvert_exporter": "python",
   "pygments_lexer": "ipython3",
   "version": "3.6.9"
  }
 },
 "nbformat": 4,
 "nbformat_minor": 4
}
