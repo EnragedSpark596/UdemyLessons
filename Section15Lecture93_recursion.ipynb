{
 "cells": [
  {
   "cell_type": "code",
   "execution_count": 1,
   "metadata": {},
   "outputs": [],
   "source": [
    "# https://www.udemy.com/course/python-for-data-structures-algorithms-and-interviews/learn/lecture/3179674#questions\n",
    "# https://nbviewer.jupyter.org/github/jmportilla/Python-for-Algorithms--Data-Structures--and-Interviews/blob/master/Recursion/Introduction%20to%20Recursion.ipynb\n",
    "\n",
    "def fact(n):\n",
    "    '''\n",
    "    Returns factorial of n (n!).\n",
    "    Note use of recursion\n",
    "    '''\n",
    "    # BASE CASE!\n",
    "    if n == 0:\n",
    "        return 1\n",
    "    \n",
    "    # Recursion!\n",
    "    else:\n",
    "        return n * fact(n-1)"
   ]
  },
  {
   "cell_type": "code",
   "execution_count": 3,
   "metadata": {},
   "outputs": [
    {
     "data": {
      "text/plain": [
       "3628800"
      ]
     },
     "execution_count": 3,
     "metadata": {},
     "output_type": "execute_result"
    }
   ],
   "source": [
    "fact(10)"
   ]
  },
  {
   "cell_type": "code",
   "execution_count": 14,
   "metadata": {},
   "outputs": [],
   "source": [
    "def factP(n):\n",
    "    '''\n",
    "    Returns factorial of n (n!).\n",
    "    Note use of recursion\n",
    "    '''\n",
    "    # BASE CASE!\n",
    "    if n == 0:\n",
    "        return 1\n",
    "    \n",
    "    # Recursion!\n",
    "    else:\n",
    "        print(n,'x',fact(n-1))\n",
    "        return n * factP(n-1)"
   ]
  },
  {
   "cell_type": "code",
   "execution_count": 15,
   "metadata": {},
   "outputs": [
    {
     "name": "stdout",
     "output_type": "stream",
     "text": [
      "5 x 24\n",
      "4 x 6\n",
      "3 x 2\n",
      "2 x 1\n",
      "1 x 1\n"
     ]
    },
    {
     "data": {
      "text/plain": [
       "120"
      ]
     },
     "execution_count": 15,
     "metadata": {},
     "output_type": "execute_result"
    }
   ],
   "source": [
    "factP(5)"
   ]
  },
  {
   "cell_type": "code",
   "execution_count": null,
   "metadata": {},
   "outputs": [],
   "source": []
  }
 ],
 "metadata": {
  "kernelspec": {
   "display_name": "Python 3",
   "language": "python",
   "name": "python3"
  },
  "language_info": {
   "codemirror_mode": {
    "name": "ipython",
    "version": 3
   },
   "file_extension": ".py",
   "mimetype": "text/x-python",
   "name": "python",
   "nbconvert_exporter": "python",
   "pygments_lexer": "ipython3",
   "version": "3.6.9"
  }
 },
 "nbformat": 4,
 "nbformat_minor": 4
}
