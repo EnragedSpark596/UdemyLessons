{
 "cells": [
  {
   "cell_type": "code",
   "execution_count": 1,
   "metadata": {},
   "outputs": [],
   "source": [
    "import sys"
   ]
  },
  {
   "cell_type": "code",
   "execution_count": 3,
   "metadata": {},
   "outputs": [
    {
     "name": "stdout",
     "output_type": "stream",
     "text": [
      "Length:   0; Size in bytes:   64\n",
      "Length:   1; Size in bytes:   96\n",
      "Length:   2; Size in bytes:   96\n",
      "Length:   3; Size in bytes:   96\n",
      "Length:   4; Size in bytes:   96\n",
      "Length:   5; Size in bytes:  128\n",
      "Length:   6; Size in bytes:  128\n",
      "Length:   7; Size in bytes:  128\n",
      "Length:   8; Size in bytes:  128\n",
      "Length:   9; Size in bytes:  192\n"
     ]
    }
   ],
   "source": [
    "# https://stackoverflow.com/questions/26029389/what-is-the-python-3-equivalent-of-s-in-strings\n",
    "# set n\n",
    "n = 10\n",
    "\n",
    "data = []\n",
    "\n",
    "for i in range(n):\n",
    "    # number of elements\n",
    "    a = len(data)\n",
    "    \n",
    "    # actual size in bytes\n",
    "    b = sys.getsizeof(data)\n",
    "    \n",
    "    print('Length: {0:3d}; Size in bytes: {1:4d}'.format(a,b))\n",
    "    \n",
    "    # increase size by 1\n",
    "    data.append(n)"
   ]
  },
  {
   "cell_type": "code",
   "execution_count": 6,
   "metadata": {},
   "outputs": [
    {
     "name": "stdout",
     "output_type": "stream",
     "text": [
      "Length: 0 {0:3d}; Size in bytes: 64 {1:4d}\n",
      "Length: 1 {0:3d}; Size in bytes: 96 {1:4d}\n",
      "Length: 2 {0:3d}; Size in bytes: 96 {1:4d}\n",
      "Length: 3 {0:3d}; Size in bytes: 96 {1:4d}\n",
      "Length: 4 {0:3d}; Size in bytes: 96 {1:4d}\n",
      "Length: 5 {0:3d}; Size in bytes: 128 {1:4d}\n",
      "Length: 6 {0:3d}; Size in bytes: 128 {1:4d}\n",
      "Length: 7 {0:3d}; Size in bytes: 128 {1:4d}\n",
      "Length: 8 {0:3d}; Size in bytes: 128 {1:4d}\n",
      "Length: 9 {0:3d}; Size in bytes: 192 {1:4d}\n"
     ]
    }
   ],
   "source": [
    "# https://stackoverflow.com/questions/26029389/what-is-the-python-3-equivalent-of-s-in-strings\n",
    "# set n\n",
    "n = 10\n",
    "\n",
    "data = []\n",
    "\n",
    "for i in range(n):\n",
    "    # number of elements\n",
    "    a = len(data)\n",
    "    \n",
    "    # actual size in bytes\n",
    "    b = sys.getsizeof(data)\n",
    "    \n",
    "    print('Length: %s {0:3d}; Size in bytes: %s {1:4d}' % (a,b))\n",
    "    \n",
    "    # increase size by 1\n",
    "    data.append(n)"
   ]
  },
  {
   "cell_type": "markdown",
   "metadata": {},
   "source": [
    "Note how python makes the size of the list larger than the length of the list to allow for new items to be added"
   ]
  },
  {
   "cell_type": "code",
   "execution_count": null,
   "metadata": {},
   "outputs": [],
   "source": []
  }
 ],
 "metadata": {
  "kernelspec": {
   "display_name": "Python 3",
   "language": "python",
   "name": "python3"
  },
  "language_info": {
   "codemirror_mode": {
    "name": "ipython",
    "version": 3
   },
   "file_extension": ".py",
   "mimetype": "text/x-python",
   "name": "python",
   "nbconvert_exporter": "python",
   "pygments_lexer": "ipython3",
   "version": "3.6.9"
  }
 },
 "nbformat": 4,
 "nbformat_minor": 4
}
